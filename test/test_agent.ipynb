{
 "cells": [
  {
   "cell_type": "code",
   "execution_count": null,
   "metadata": {
    "metadata": {}
   },
   "outputs": [],
   "source": [
    "from utils.agents import MarketingAgent\n",
    "from PIL import Image\n",
    "predict_helper = MarketingAgent()\n",
    "\n",
    "image_raw = Image.open(\"../assets/image1.png\")\n",
    "image_heatmap = Image.open(\"../assets/image1_heatmap.jpeg\")\n",
    "\n",
    "json_out = predict_helper.full_agent_pipe(image_raw, image_heatmap)\n",
    "print(json_out)"
   ]
  }
 ],
 "metadata": {
  "kernelspec": {
   "display_name": "Python 3",
   "language": "python",
   "name": "python3"
  },
  "language_info": {
   "codemirror_mode": {
    "name": "ipython",
    "version": 3
   },
   "file_extension": ".py",
   "mimetype": "text/x-python",
   "name": "python",
   "nbconvert_exporter": "python",
   "pygments_lexer": "ipython3",
   "version": "3.12.3"
  }
 },
 "nbformat": 4,
 "nbformat_minor": 2
}
