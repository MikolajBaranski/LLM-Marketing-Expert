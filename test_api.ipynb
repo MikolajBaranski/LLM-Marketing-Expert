{
 "cells": [
  {
   "cell_type": "code",
   "execution_count": 56,
   "metadata": {},
   "outputs": [
    {
     "name": "stdout",
     "output_type": "stream",
     "text": [
      "{'ad_description': \"A yellow and black advertisement with the words 'You Can't Cheat on the Gym' written on it. The advertisement is promoting a gym membership.\", 'ad_purpose': 'conversion', 'ad_saliency_description': \"The word 'cheat' on the yellow background.\", 'ad_cognitive_description': 'The advertisement is visually complex, with a yellow background, black text, and a variety of colors. The presence of text and the inclusion of a pattern may require more mental processing capacity from the viewer, making it less accessible to those with limited cognitive resources.'}\n"
     ]
    }
   ],
   "source": [
    "import requests\n",
    "import os\n",
    "\n",
    "IMAGE_RAW_PATH = \"assets/image3.png\"\n",
    "IMAGE_HEATMAP_PATH = \"assets/image3_heatmap.png\"\n",
    "\n",
    "# Replace with the actual URL of your FastAPI endpoint\n",
    "url = \"http://127.0.0.1:8000/upload/\"\n",
    "\n",
    "# Replace with the actual paths of your image files\n",
    "image_raw_path = IMAGE_RAW_PATH\n",
    "image_heatmap_path = IMAGE_HEATMAP_PATH\n",
    "\n",
    "# Open the image files as binary data\n",
    "image_raw = open(image_raw_path, 'rb')\n",
    "image_heatmap = open(image_heatmap_path, 'rb')\n",
    "\n",
    "# Create a dictionary with files to upload (multipart form-data)\n",
    "files = {\n",
    "    'image_raw': (image_raw_path, image_raw, 'image/png'),\n",
    "    'image_heatmap': (image_heatmap_path, image_heatmap, 'image/png')\n",
    "}\n",
    "\n",
    "try:\n",
    "    # Send POST request with files\n",
    "    response = requests.post(url, files=files)\n",
    "    # Ensure the request was successful\n",
    "    response.raise_for_status()\n",
    "    \n",
    "    # Print the response data (if needed)\n",
    "    print(response.json())\n",
    "    \n",
    "finally:\n",
    "    # Close the file handles\n",
    "    image_raw.close()\n",
    "    image_heatmap.close()\n"
   ]
  }
 ],
 "metadata": {
  "kernelspec": {
   "display_name": "Python 3",
   "language": "python",
   "name": "python3"
  },
  "language_info": {
   "codemirror_mode": {
    "name": "ipython",
    "version": 3
   },
   "file_extension": ".py",
   "mimetype": "text/x-python",
   "name": "python",
   "nbconvert_exporter": "python",
   "pygments_lexer": "ipython3",
   "version": "3.12.3"
  }
 },
 "nbformat": 4,
 "nbformat_minor": 2
}
