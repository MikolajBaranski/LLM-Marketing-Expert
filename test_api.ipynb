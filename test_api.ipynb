{
 "cells": [
  {
   "cell_type": "code",
   "execution_count": 2,
   "metadata": {
    "metadata": {}
   },
   "outputs": [
    {
     "name": "stdout",
     "output_type": "stream",
     "text": [
      "{'ad_description': 'A woman wearing a colorful jacket and a knitted hat is posing for a photo. She is wearing a pink hat and a pink jacket. The background is a brightly colored gradient. The advertisement is for Snowstyle, a clothing brand. The call-to-action is to visit the Snowstyle website.', 'ad_purpose': 'conversion', 'ad_saliency_description': \"The woman in the advertisement is wearing a colorful jacket, which is visually salient and likely to catch the viewer's attention.\", 'ad_cognitive_description': 'The advertisement is visually complex, with a diverse color palette and a mix of patterns. The inclusion of text adds to the perceptual load, as the viewer must process the message and the visual elements simultaneously. This may make the advertisement less accessible to some viewers, particularly those with lower cognitive capacity or visual impairments.'}\n"
     ]
    }
   ],
   "source": [
    "import requests\n",
    "import os\n",
    "\n",
    "IMAGE_RAW_PATH = \"assets/image1.png\"\n",
    "IMAGE_HEATMAP_PATH = \"assets/image1_heatmap.jpeg\"\n",
    "\n",
    "url = \"http://127.0.0.1:8000/upload/\"\n",
    "\n",
    "image_raw_path = IMAGE_RAW_PATH\n",
    "image_heatmap_path = IMAGE_HEATMAP_PATH\n",
    "\n",
    "# Open the image files as binary data\n",
    "image_raw = open(image_raw_path, 'rb')\n",
    "image_heatmap = open(image_heatmap_path, 'rb')\n",
    "\n",
    "# Create a dictionary with files to upload (multipart form-data)\n",
    "files = {\n",
    "    'image_raw': (image_raw_path, image_raw, 'image/png'),\n",
    "    'image_heatmap': (image_heatmap_path, image_heatmap, 'image/png')\n",
    "}\n",
    "\n",
    "try:\n",
    "    # Send POST request with files\n",
    "    response = requests.post(url, files=files)\n",
    "    # Ensure the request was successful\n",
    "    response.raise_for_status()\n",
    "    \n",
    "    # Print the response data (if needed)\n",
    "    print(response.json())\n",
    "    \n",
    "finally:\n",
    "    # Close the file handles\n",
    "    image_raw.close()\n",
    "    image_heatmap.close()"
   ]
  }
 ],
 "metadata": {
  "kernelspec": {
   "display_name": "Python 3",
   "language": "python",
   "name": "python3"
  },
  "language_info": {
   "codemirror_mode": {
    "name": "ipython",
    "version": 3
   },
   "file_extension": ".py",
   "mimetype": "text/x-python",
   "name": "python",
   "nbconvert_exporter": "python",
   "pygments_lexer": "ipython3",
   "version": "3.12.3"
  }
 },
 "nbformat": 4,
 "nbformat_minor": 2
}
